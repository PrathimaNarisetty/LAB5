{
  "nbformat": 4,
  "nbformat_minor": 0,
  "metadata": {
    "colab": {
      "provenance": []
    },
    "kernelspec": {
      "name": "python3",
      "display_name": "Python 3"
    },
    "language_info": {
      "name": "python"
    }
  },
  "cells": [
    {
      "cell_type": "markdown",
      "source": [
        "A1"
      ],
      "metadata": {
        "id": "igVZEP-bSGKG"
      }
    },
    {
      "cell_type": "code",
      "execution_count": 1,
      "metadata": {
        "colab": {
          "base_uri": "https://localhost:8080/"
        },
        "id": "KK1zU73-Rzqu",
        "outputId": "eafe7c0b-baa2-4bb8-d043-1c39c8557393"
      },
      "outputs": [
        {
          "output_type": "stream",
          "name": "stdout",
          "text": [
            "Prior Probabilities:\n",
            "P(yes) = 0.64\n",
            "P(no) = 0.36\n"
          ]
        }
      ],
      "source": [
        "data = [\n",
        "    ('<=30', 'high', 'no', 'fair', 'no'),\n",
        "    ('<=30', 'high', 'no', 'excellent', 'no'),\n",
        "    ('31...40', 'high', 'no', 'fair', 'yes'),\n",
        "    ('>40', 'medium', 'no', 'fair', 'yes'),\n",
        "    ('>40', 'low', 'yes', 'fair', 'yes'),\n",
        "    ('>40', 'low', 'yes', 'excellent', 'no'),\n",
        "    ('31...40', 'low', 'yes', 'excellent', 'yes'),\n",
        "    ('<=30', 'medium', 'no', 'fair', 'no'),\n",
        "    ('<=30', 'low', 'yes', 'fair', 'yes'),\n",
        "    ('>40', 'medium', 'yes', 'fair', 'yes'),\n",
        "    ('<=30', 'medium', 'yes', 'excellent', 'yes'),\n",
        "    ('31...40', 'medium', 'no', 'excellent', 'yes'),\n",
        "    ('31...40', 'high', 'yes', 'fair', 'yes'),\n",
        "    ('>40', 'medium', 'no', 'excellent', 'no')\n",
        "]\n",
        "class_counts = {'yes': 0, 'no': 0}\n",
        "for instance in data:\n",
        "    class_label = instance[-1]\n",
        "    class_counts[class_label] += 1\n",
        "\n",
        "total_instances = len(data)\n",
        "\n",
        "prior_probabilities = {class_label: count / total_instances for class_label, count in class_counts.items()}\n",
        "\n",
        "print(\"Prior Probabilities:\")\n",
        "for class_label, probability in prior_probabilities.items():\n",
        "    print(f\"P({class_label}) = {probability:.2f}\")"
      ]
    },
    {
      "cell_type": "markdown",
      "source": [
        "A2"
      ],
      "metadata": {
        "id": "TrauthP9SLGe"
      }
    },
    {
      "cell_type": "code",
      "source": [
        "from collections import defaultdict\n",
        "\n",
        "data = [\n",
        "    ('<=30', 'high', 'no', 'fair', 'no'),\n",
        "    ('<=30', 'high', 'no', 'excellent', 'no'),\n",
        "    ('31...40', 'high', 'no', 'fair', 'yes'),\n",
        "    ('>40', 'medium', 'no', 'fair', 'yes'),\n",
        "    ('>40', 'low', 'yes', 'fair', 'yes'),\n",
        "    ('>40', 'low', 'yes', 'excellent', 'no'),\n",
        "    ('31...40', 'low', 'yes', 'excellent', 'yes'),\n",
        "    ('<=30', 'medium', 'no', 'fair', 'no'),\n",
        "    ('<=30', 'low', 'yes', 'fair', 'yes'),\n",
        "    ('>40', 'medium', 'yes', 'fair', 'yes'),\n",
        "    ('<=30', 'medium', 'yes', 'excellent', 'yes'),\n",
        "    ('31...40', 'medium', 'no', 'excellent', 'yes'),\n",
        "    ('31...40', 'high', 'yes', 'fair', 'yes'),\n",
        "    ('>40', 'medium', 'no', 'excellent', 'no')\n",
        "]\n",
        "class_instances = defaultdict(list)\n",
        "for instance in data:\n",
        "    class_label = instance[-1]\n",
        "    class_instances[class_label].append(instance[:-1])\n",
        "\n",
        "class_conditional_densities = defaultdict(dict)\n",
        "\n",
        "for class_label, instances in class_instances.items():\n",
        "    total_instances = len(instances)\n",
        "    features_count = len(instances[0])\n",
        "\n",
        "    for feature_index in range(features_count):\n",
        "        feature_values = set(instance[feature_index] for instance in instances)\n",
        "\n",
        "        for feature_value in feature_values:\n",
        "            count_feature_value = sum(1 for instance in instances if instance[feature_index] == feature_value)\n",
        "            probability = count_feature_value / total_instances\n",
        "            class_conditional_densities[class_label][f\"Feature {feature_index + 1} = {feature_value}\"] = probability\n",
        "\n",
        "for class_label, densities in class_conditional_densities.items():\n",
        "    for feature, probability in densities.items():\n",
        "        if probability == 0:\n",
        "            print(f\"Zero probability for {class_label} class and {feature}\")\n",
        "\n",
        "for class_label, densities in class_conditional_densities.items():\n",
        "    print(f\"Class: {class_label}\")\n",
        "    for feature, probability in densities.items():\n",
        "        print(f\"{feature}: {probability:.2f}\")\n",
        "    print()"
      ],
      "metadata": {
        "colab": {
          "base_uri": "https://localhost:8080/"
        },
        "id": "reR6m9fxSNOr",
        "outputId": "f4e27c0b-4a29-4b8b-8fc5-2288da3d90e8"
      },
      "execution_count": 2,
      "outputs": [
        {
          "output_type": "stream",
          "name": "stdout",
          "text": [
            "Class: no\n",
            "Feature 1 = <=30: 0.60\n",
            "Feature 1 = >40: 0.40\n",
            "Feature 2 = medium: 0.40\n",
            "Feature 2 = low: 0.20\n",
            "Feature 2 = high: 0.40\n",
            "Feature 3 = no: 0.80\n",
            "Feature 3 = yes: 0.20\n",
            "Feature 4 = excellent: 0.60\n",
            "Feature 4 = fair: 0.40\n",
            "\n",
            "Class: yes\n",
            "Feature 1 = <=30: 0.22\n",
            "Feature 1 = >40: 0.33\n",
            "Feature 1 = 31...40: 0.44\n",
            "Feature 2 = medium: 0.44\n",
            "Feature 2 = low: 0.33\n",
            "Feature 2 = high: 0.22\n",
            "Feature 3 = no: 0.33\n",
            "Feature 3 = yes: 0.67\n",
            "Feature 4 = excellent: 0.33\n",
            "Feature 4 = fair: 0.67\n",
            "\n"
          ]
        }
      ]
    },
    {
      "cell_type": "markdown",
      "source": [
        "A3"
      ],
      "metadata": {
        "id": "wlbAtXQeSUjK"
      }
    },
    {
      "cell_type": "code",
      "source": [
        "import pandas as pd\n",
        "from scipy.stats import chi2_contingency\n",
        "data = {\n",
        "    'age': ['<=30', '<=30', '31-40', '>40', '>40', '>40', '31-40', '<=30', '<=30', '>40', '<=30', '31-40', '31-40', '>40'],\n",
        "    'income': ['high', 'high', 'high', 'medium', 'low', 'low', 'low', 'medium', 'low', 'medium', 'medium', 'medium', 'high', 'medium'],\n",
        "    'student': ['no', 'no', 'no', 'no', 'yes', 'yes', 'yes', 'no', 'yes', 'yes', 'yes', 'no', 'yes', 'no'],\n",
        "    'credit_rating': ['fair', 'excellent', 'fair', 'fair', 'fair', 'excellent', 'excellent', 'fair', 'fair', 'fair', 'excellent', 'excellent', 'fair', 'excellent'],\n",
        "    'buys_computer': ['no', 'no', 'yes', 'yes', 'yes', 'no', 'yes', 'no', 'yes', 'yes', 'yes', 'yes', 'yes', 'no']\n",
        "}\n",
        "\n",
        "df = pd.DataFrame(data)\n",
        "contingency_table = pd.crosstab(index=df['age'], columns=[df['income'], df['student'], df['credit_rating']])\n",
        "chi2, p, _, _ = chi2_contingency(contingency_table)\n",
        "print(f\"Chi-squared value: {chi2}\")\n",
        "print(f\"P-value: {p}\")\n",
        "alpha = 0.05\n",
        "if p < alpha:\n",
        "    print(\"Reject the null hypothesis: There is evidence of dependence between the features.\")\n",
        "else:\n",
        "    print(\"Fail to reject the null hypothesis: There is no evidence of dependence between the features.\")\n"
      ],
      "metadata": {
        "colab": {
          "base_uri": "https://localhost:8080/"
        },
        "id": "heUUGP1gSVki",
        "outputId": "5029471a-6087-4cbb-db0d-78fcf93477b8"
      },
      "execution_count": 3,
      "outputs": [
        {
          "output_type": "stream",
          "name": "stdout",
          "text": [
            "Chi-squared value: 12.95\n",
            "P-value: 0.6764100579553458\n",
            "Fail to reject the null hypothesis: There is no evidence of dependence between the features.\n"
          ]
        }
      ]
    }
  ]
}