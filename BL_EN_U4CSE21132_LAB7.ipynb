{
  "cells": [
    {
      "cell_type": "markdown",
      "source": [
        "A1"
      ],
      "metadata": {
        "id": "xzW7yJzA6eVR"
      }
    },
    {
      "cell_type": "code",
      "source": [
        "import pandas as pd\n",
        "from sklearn import svm\n",
        "from sklearn.model_selection import train_test_split\n",
        "from sklearn.preprocessing import LabelEncoder\n",
        "from sklearn.impute import SimpleImputer\n",
        "\n",
        "\n",
        "data = {\n",
        "    'Gender': ['Male', 'Female', 'Male', 'Female'],\n",
        "    'Customer Type': ['Regular', 'VIP', 'Regular', 'VIP'],\n",
        "    'Type of Travel': ['Business', 'Business', 'Personal', 'Business'],\n",
        "    'Class': ['Economy', 'Business', 'Economy', 'Business'],\n",
        "    'satisfaction': ['Satisfied', 'Dissatisfied', 'Satisfied', 'Dissatisfied'],\n",
        "    'Feature1': [10, 20, 15, 25],\n",
        "    'Feature2': [30, 40, 35, 45]\n",
        "}\n",
        "\n",
        "df = pd.DataFrame(data)\n",
        "\n",
        "\n",
        "label_encoder = LabelEncoder()\n",
        "df['Gender'] = label_encoder.fit_transform(df['Gender'])\n",
        "df['Customer Type'] = label_encoder.fit_transform(df['Customer Type'])\n",
        "df['Type of Travel'] = label_encoder.fit_transform(df['Type of Travel'])\n",
        "df['Class'] = label_encoder.fit_transform(df['Class'])\n",
        "df['satisfaction'] = label_encoder.fit_transform(df['satisfaction'])\n",
        "\n",
        "X = df.drop('satisfaction', axis=1)\n",
        "y = df['satisfaction']\n",
        "\n",
        "class_1 = 0\n",
        "class_2 = 1\n",
        "\n",
        "X_binary = X[(y == class_1) | (y == class_2)]\n",
        "y_binary = y[(y == class_1) | (y == class_2)]\n",
        "\n",
        "X_train, X_test, y_train, y_test = train_test_split(X_binary, y_binary, test_size=0.2, random_state=42)\n",
        "\n",
        "imputer = SimpleImputer(strategy='mean')\n",
        "X_train_imputed = imputer.fit_transform(X_train)\n",
        "\n",
        "clf = svm.SVC()\n",
        "clf.fit(X_train_imputed, y_train)\n",
        "\n",
        "support_vectors = clf.support_vectors_\n",
        "\n",
        "print(\"Support Vectors:\")\n",
        "print(support_vectors)\n"
      ],
      "metadata": {
        "colab": {
          "base_uri": "https://localhost:8080/"
        },
        "id": "pLG1__1x5kCl",
        "outputId": "429ad06d-54f6-4d42-a748-adf8d059c074"
      },
      "execution_count": 2,
      "outputs": [
        {
          "output_type": "stream",
          "name": "stdout",
          "text": [
            "Support Vectors:\n",
            "[[ 0.  1.  0.  0. 25. 45.]\n",
            " [ 1.  0.  1.  1. 15. 35.]]\n"
          ]
        }
      ]
    },
    {
      "cell_type": "markdown",
      "source": [
        "A2"
      ],
      "metadata": {
        "id": "8cNqEOZn6acW"
      }
    },
    {
      "cell_type": "code",
      "execution_count": 9,
      "metadata": {
        "colab": {
          "base_uri": "https://localhost:8080/"
        },
        "id": "gcMx6BQwugdD",
        "outputId": "cdafe3fd-2778-4610-e4bc-c6d8780254b2"
      },
      "outputs": [
        {
          "metadata": {
            "tags": null
          },
          "name": "stdout",
          "output_type": "stream",
          "text": [
            "Accuracy on the test set: 66.88%\n",
            "Predicted class for the test vector: [0]\n"
          ]
        }
      ],
      "source": [
        "import pandas as pd\n",
        "from sklearn import svm\n",
        "from sklearn.model_selection import train_test_split\n",
        "from sklearn.preprocessing import LabelEncoder\n",
        "from sklearn.impute import SimpleImputer\n",
        "\n",
        "columns_to_drop = ['Unnamed: 0', 'id']\n",
        "df = df.drop(columns_to_drop, axis=1, errors='ignore')\n",
        "\n",
        "label_encoder = LabelEncoder()\n",
        "for column in ['Gender', 'Customer Type', 'Type of Travel', 'Class', 'satisfaction']:\n",
        "    df[column] = label_encoder.fit_transform(df[column])\n",
        "\n",
        "X = df.drop('satisfaction', axis=1)\n",
        "y = df['satisfaction']\n",
        "\n",
        "class_1 = 0\n",
        "class_2 = 1\n",
        "\n",
        "X_binary = X[(y == class_1) | (y == class_2)]\n",
        "y_binary = y[(y == class_1) | (y == class_2)]\n",
        "\n",
        "X_train, X_test, y_train, y_test = train_test_split(X_binary, y_binary, test_size=0.2, random_state=42)\n",
        "\n",
        "imputer = SimpleImputer(strategy='mean')\n",
        "X_train_imputed = imputer.fit_transform(X_train)\n",
        "X_test_imputed = imputer.transform(X_test)\n",
        "\n",
        "clf = svm.SVC()\n",
        "\n",
        "clf.fit(X_train_imputed, y_train)\n",
        "\n",
        "accuracy = clf.score(X_test_imputed, y_test)\n",
        "print(f\"Accuracy on the test set: {accuracy:.2%}\")\n",
        "\n",
        "test_vector = X_test_imputed[0]\n",
        "predicted_class = clf.predict([test_vector])\n",
        "\n",
        "print(f\"Predicted class for the test vector: {predicted_class}\")"
      ]
    },
    {
      "cell_type": "markdown",
      "source": [
        "A3"
      ],
      "metadata": {
        "id": "xWUq4mTu9b1i"
      }
    },
    {
      "cell_type": "code",
      "source": [
        "import pandas as pd\n",
        "from sklearn import svm\n",
        "from sklearn.model_selection import train_test_split\n",
        "from sklearn.preprocessing import LabelEncoder\n",
        "from sklearn.impute import SimpleImputer\n",
        "\n",
        "df = pd.read_csv('test(2).csv')\n",
        "\n",
        "columns_to_drop = ['Unnamed: 0', 'id']\n",
        "df = df.drop(columns_to_drop, axis=1, errors='ignore')\n",
        "\n",
        "label_encoder = LabelEncoder()\n",
        "for column in ['Gender', 'Customer Type', 'Type of Travel', 'Class', 'satisfaction']:\n",
        "    df[column] = label_encoder.fit_transform(df[column])\n",
        "\n",
        "X = df.drop('satisfaction', axis=1)\n",
        "y = df['satisfaction']\n",
        "\n",
        "class_1 = 0\n",
        "class_2 = 1\n",
        "\n",
        "X_binary = X[(y == class_1) | (y == class_2)]\n",
        "y_binary = y[(y == class_1) | (y == class_2)]\n",
        "\n",
        "X_train, X_test, y_train, y_test = train_test_split(X_binary, y_binary, test_size=0.2, random_state=42)\n",
        "\n",
        "imputer = SimpleImputer(strategy='mean')\n",
        "X_train_imputed = imputer.fit_transform(X_train)\n",
        "X_test_imputed = imputer.transform(X_test)\n",
        "\n",
        "clf = svm.SVC()\n",
        "\n",
        "clf.fit(X_train_imputed, y_train)\n",
        "\n",
        "predicted_labels = clf.predict(X_test_imputed)\n",
        "\n",
        "accuracy = sum(predicted_labels == y_test) / len(y_test)\n",
        "print(f\"Accuracy on the test set: {accuracy:.2%}\")\n",
        "\n",
        "result_df = pd.DataFrame({'Actual Label': y_test, 'Predicted Label': predicted_labels})\n",
        "print(result_df)"
      ],
      "metadata": {
        "colab": {
          "base_uri": "https://localhost:8080/"
        },
        "id": "w3P-ffqP9bYK",
        "outputId": "8b59ac21-45ad-48e3-84a9-fb3386777e1f"
      },
      "execution_count": 3,
      "outputs": [
        {
          "output_type": "stream",
          "name": "stdout",
          "text": [
            "Accuracy on the test set: 66.57%\n",
            "       Actual Label  Predicted Label\n",
            "13047             0                0\n",
            "14975             1                1\n",
            "12642             0                0\n",
            "23011             1                1\n",
            "13308             0                0\n",
            "...             ...              ...\n",
            "11106             1                1\n",
            "10256             1                0\n",
            "20216             1                1\n",
            "7029              1                1\n",
            "17124             1                0\n",
            "\n",
            "[5196 rows x 2 columns]\n"
          ]
        }
      ]
    },
    {
      "cell_type": "markdown",
      "source": [
        "A4"
      ],
      "metadata": {
        "id": "KfrS66OI_1FR"
      }
    },
    {
      "cell_type": "code",
      "source": [
        "import pandas as pd\n",
        "from sklearn.model_selection import train_test_split\n",
        "from sklearn.preprocessing import LabelEncoder\n",
        "from sklearn.impute import SimpleImputer\n",
        "from sklearn.svm import SVC, LinearSVC\n",
        "from sklearn.metrics import accuracy_score\n",
        "\n",
        "df = pd.read_csv('test (2).csv')\n",
        "\n",
        "columns_to_drop = ['Unnamed: 0', 'id']\n",
        "df = df.drop(columns_to_drop, axis=1, errors='ignore')\n",
        "\n",
        "label_encoder = LabelEncoder()\n",
        "for column in ['Gender', 'Customer Type', 'Type of Travel', 'Class', 'satisfaction']:\n",
        "    df[column] = label_encoder.fit_transform(df[column])\n",
        "\n",
        "X = df.drop('satisfaction', axis=1)\n",
        "y = df['satisfaction']\n",
        "\n",
        "X_train, X_test, y_train, y_test = train_test_split(X, y, test_size=0.2, random_state=42)\n",
        "\n",
        "imputer = SimpleImputer(strategy='mean')\n",
        "X_train_imputed = imputer.fit_transform(X_train)\n",
        "X_test_imputed = imputer.transform(X_test)\n",
        "\n",
        "kernel_functions = ['linear', 'poly', 'rbf', 'sigmoid']\n",
        "\n",
        "for kernel in kernel_functions:\n",
        "    if kernel == 'linear':\n",
        "\n",
        "        clf = LinearSVC()\n",
        "    else:\n",
        "        clf = SVC(kernel=kernel)\n",
        "\n",
        "    clf.fit(X_train_imputed, y_train)\n",
        "\n",
        "    predicted_labels = clf.predict(X_test_imputed)\n",
        "\n",
        "    accuracy = accuracy_score(y_test, predicted_labels)\n",
        "    print(f\"Accuracy with {kernel} kernel: {accuracy:.2%}\")"
      ],
      "metadata": {
        "colab": {
          "base_uri": "https://localhost:8080/"
        },
        "id": "yNli5o7E_0uq",
        "outputId": "92ddfe12-2808-4a5a-8e01-5dbbdbbf6cec"
      },
      "execution_count": 4,
      "outputs": [
        {
          "output_type": "stream",
          "name": "stderr",
          "text": [
            "/usr/local/lib/python3.10/dist-packages/sklearn/svm/_base.py:1244: ConvergenceWarning: Liblinear failed to converge, increase the number of iterations.\n",
            "  warnings.warn(\n"
          ]
        },
        {
          "output_type": "stream",
          "name": "stdout",
          "text": [
            "Accuracy with linear kernel: 61.45%\n",
            "Accuracy with poly kernel: 66.94%\n",
            "Accuracy with rbf kernel: 66.57%\n",
            "Accuracy with sigmoid kernel: 41.78%\n"
          ]
        }
      ]
    }
  ],
  "metadata": {
    "colab": {
      "provenance": []
    },
    "kernelspec": {
      "display_name": "Python 3",
      "name": "python3"
    },
    "language_info": {
      "name": "python"
    }
  },
  "nbformat": 4,
  "nbformat_minor": 0
}